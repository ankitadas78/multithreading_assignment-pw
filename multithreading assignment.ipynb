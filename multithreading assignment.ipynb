{
 "cells": [
  {
   "cell_type": "markdown",
   "id": "3a942ec9-bcad-4966-9810-7de95296b7cb",
   "metadata": {},
   "source": [
    "ques1_what is multithreading in python?why is it used?name the module used to handle threads in python."
   ]
  },
  {
   "cell_type": "markdown",
   "id": "8ae21d87-5db3-4c74-8d2f-90e2feae7a83",
   "metadata": {},
   "source": [
    "ans_ multithreading is a process of running multiple tasks at a time in the application.it enables us to run multiple threads concurrently.for example in a web browser we can have one thread wguch handles the user interface,and in parallel we can have another thread which fetches the data to be displayed,so it improves the responsiveness of s system.\n",
    "\n",
    "why used_ multithreading in python stermlines the efficient utillization of resources as the threads share the same memory and data space,it also allows the concurrent appearance of multiple tasks and reduces the response time.\n",
    "\n",
    "module used tomhanfle thredas in python_ the threading module is used to handle thread in python."
   ]
  },
  {
   "cell_type": "markdown",
   "id": "2d9ad6c4-d9bf-4b3b-afa9-fdd874c9e4d7",
   "metadata": {},
   "source": [
    "ques2_why threading module is used?write the use of following function: activeCount(),currentThread(),enumerate()"
   ]
  },
  {
   "cell_type": "markdown",
   "id": "3762b925-c42a-4197-9079-be0b94af77f4",
   "metadata": {},
   "source": [
    "python threading allows to have different parts of our program run concurrently and can simplify our design\n",
    "\n",
    "activeCount() : activeCount() is used to returns the number of thread objects that are active.\n",
    "\n",
    "currentThread() : currentThread() is used to returns the number of thread object in the caller's thred control.\n",
    "\n",
    "enumerate() : enumerate() returns a list of all thread objects that are currently active"
   ]
  },
  {
   "cell_type": "markdown",
   "id": "d1e3ea4d-7306-4035-a768-e3cc95ad08ff",
   "metadata": {},
   "source": [
    "ques3_explain the following functions: run(),start(),join(),isAlive()"
   ]
  },
  {
   "cell_type": "markdown",
   "id": "8488c57a-7c0d-48a1-bac9-00e046124a96",
   "metadata": {},
   "source": [
    "run(): the run() function executes any target function beloging to a given thread object that is now active.It normally executes the background after the start(),method is invoked.it is an inbuilt method of the thread class of the threading module,it is used to represent a thread's activity.\n",
    "\n",
    "start(): the start() function is an inbuilt method of the thread class of the threading module , it is used to start a thread's activity.This method calls the run() method internally which then executes the target method.This method must be called at most one time for one thread.\n",
    "\n",
    "join(): the join() function takes all the elements of an iterable and joins them into a single string.It will return the joined string.We have to specify a string separator that will be used to separate the concentened string.\n",
    "\n",
    "isAlive(): it is an inbuilt function of the thread class of the threading module,it is used to check whether that thread is alive or not or it is alive or not.this method returns True before the run() starts until just after the run() method is executed."
   ]
  },
  {
   "cell_type": "code",
   "execution_count": 4,
   "id": "d5d5f4a0-7fb1-44c5-8841-43a96423fbdd",
   "metadata": {},
   "outputs": [
    {
     "name": "stdout",
     "output_type": "stream",
     "text": [
      "value of thread 1\n",
      "value of thread 2\n"
     ]
    }
   ],
   "source": [
    "#example of  run()\n",
    "\n",
    "import threading\n",
    "\n",
    "def thread_1(i):\n",
    "    print(\"value of thread 1\")\n",
    "    \n",
    "def thread_2(i):\n",
    "    print(\"value of thread 2\")\n",
    "    \n",
    "thread1 = threading.Thread(target=thread_1 , args=(100 ,))\n",
    "thread2 = threading.Thread(target=thread_2 , args=(200 ,))\n",
    "\n",
    "thread1.run()\n",
    "thread2.run()"
   ]
  },
  {
   "cell_type": "code",
   "execution_count": 3,
   "id": "cd953654-df62-4b01-b4f7-9147a5bf16a5",
   "metadata": {},
   "outputs": [
    {
     "name": "stdout",
     "output_type": "stream",
     "text": [
      "value by Thread 2: 2\n",
      "value by Thread 1: 1\n"
     ]
    }
   ],
   "source": [
    "#example of start()\n",
    "\n",
    "import time\n",
    "import threading\n",
    "\n",
    "def thread_1(i):\n",
    "    time.sleep(1)\n",
    "    print('value by Thread 1:' , i)\n",
    "    \n",
    "def thread_2(i):\n",
    "    print('value by Thread 2:' , i)\n",
    "    \n",
    "thread1 = threading.Thread(target=thread_1 , args=(1, ))\n",
    "thread2 = threading.Thread(target=thread_2 , args=(2, ))\n",
    "\n",
    "thread1.start()\n",
    "thread2.start()"
   ]
  },
  {
   "cell_type": "code",
   "execution_count": 5,
   "id": "b5f36554-0829-4393-8ed8-efe064cc871c",
   "metadata": {},
   "outputs": [
    {
     "name": "stdout",
     "output_type": "stream",
     "text": [
      "value by Thread 2: 2\n",
      "Is thread1 alive: True\n",
      "Is thread2 alive: False\n",
      "value by Thread 1: 1\n"
     ]
    }
   ],
   "source": [
    "#example of isAlive()\n",
    "\n",
    "import time\n",
    "import threading\n",
    "\n",
    "def thread_1(i):\n",
    "    time.sleep(1)\n",
    "    print('value by Thread 1:' , i)\n",
    "    \n",
    "def thread_2(i):\n",
    "    print('value by Thread 2:' , i)\n",
    "    \n",
    "thread1 = threading.Thread(target=thread_1 , args=(1, ))\n",
    "thread2 = threading.Thread(target=thread_2 , args=(2, ))\n",
    "\n",
    "thread1.start()\n",
    "thread2.start()\n",
    "\n",
    "print(\"Is thread1 alive:\", thread1.is_alive())\n",
    "print(\"Is thread2 alive:\", thread2.is_alive())"
   ]
  },
  {
   "cell_type": "markdown",
   "id": "1fc612d3-cec7-4218-9a09-fd310a15f511",
   "metadata": {},
   "source": [
    "ques5_  write a python program to create two threads. Thread one must print the list of squares and thread \n",
    "two must print the list of cubes"
   ]
  },
  {
   "cell_type": "code",
   "execution_count": 27,
   "id": "55f8d333-b4bd-4c7e-b8f5-7058c009bc2b",
   "metadata": {},
   "outputs": [
    {
     "name": "stdout",
     "output_type": "stream",
     "text": [
      "square:100\n",
      "cube:8000\n"
     ]
    }
   ],
   "source": [
    "import threading\n",
    "\n",
    "def print_square(n):\n",
    "    print(\"square:{}\" .format(n*n))\n",
    "    \n",
    "def print_cube(n):\n",
    "    print(\"cube:{}\" .format(n*n*n))\n",
    "    \n",
    "if __name__ == \"__main__\":\n",
    "    thread1 = threading.Thread(target=print_square , args=(10, ))\n",
    "    thread2 =threading.Thread(target=print_cube , args=(20,))\n",
    "    \n",
    "    thread1.start()\n",
    "    thread2.start()\n",
    "    thread1.join()\n",
    "    thread2.join()"
   ]
  },
  {
   "cell_type": "markdown",
   "id": "d6d6fbe9-6c41-4ce1-a0a9-596be67287a3",
   "metadata": {},
   "source": [
    "ques5_state advantage and disadvantage of multithreading."
   ]
  },
  {
   "cell_type": "markdown",
   "id": "3f9bd57e-48c5-4b0e-a5f2-d5502678069e",
   "metadata": {},
   "source": [
    "advantage of multithreading:\n",
    "\n",
    "1.It will improve the speed of computation on multiprocessor or multi-core systems because each processor will handle a separate thread concurrently.\n",
    "2.Multithreading will allow a program to remain responsive while one thread waits for input, and another runs a GUI at the same time.\n",
    "3.The threads of a process have access to its global variables if a global variable changes in one thread.\n",
    "\n",
    "disadvantage of multithreading:\n",
    "\n",
    "1.The single processor system multithreading won’t hit the speed of computation.\n",
    "2.The performance may downgrade because of managing threads.\n",
    "3.The synchronization is used to prevent mutual exclusion while accessing shared resources as it leads to more memory and CPU utilization.\n",
    "4.It also increases the complexity of the program for making it difficult to debug."
   ]
  },
  {
   "cell_type": "markdown",
   "id": "09927fc9-b07a-45a9-8fe8-1aea630547e0",
   "metadata": {},
   "source": [
    "ques6_explain deadlocks and race condition."
   ]
  },
  {
   "cell_type": "markdown",
   "id": "8947b1d0-6fbe-4f8f-9a46-ff73b623746d",
   "metadata": {},
   "source": [
    "Both share some similarities, such as they both occur in multi-thread solutions and hamper device performance. However, both are not the same.\n",
    "\n",
    "A race condition occurs when two threads use the same variable at a given time. Deadlock exists when two threads seek one lock simultaneously.  \n",
    "\n",
    "This situation will stop both threads from processing or executing the functions. In racing, two tasks compete with each other and try to complete a task before each other.\n",
    "\n",
    "In a deadlock, two processes are waiting and expecting the complementary process to complete the task.\n",
    "\n",
    "‍"
   ]
  },
  {
   "cell_type": "code",
   "execution_count": null,
   "id": "ec74c039-f0b5-49ab-bc3a-21eaa78125d9",
   "metadata": {},
   "outputs": [],
   "source": []
  }
 ],
 "metadata": {
  "kernelspec": {
   "display_name": "Python 3 (ipykernel)",
   "language": "python",
   "name": "python3"
  },
  "language_info": {
   "codemirror_mode": {
    "name": "ipython",
    "version": 3
   },
   "file_extension": ".py",
   "mimetype": "text/x-python",
   "name": "python",
   "nbconvert_exporter": "python",
   "pygments_lexer": "ipython3",
   "version": "3.10.8"
  }
 },
 "nbformat": 4,
 "nbformat_minor": 5
}
